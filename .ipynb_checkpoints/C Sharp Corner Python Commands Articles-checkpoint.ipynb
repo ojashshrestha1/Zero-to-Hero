{
 "cells": [
  {
   "cell_type": "code",
   "execution_count": 1,
   "id": "c1929d26",
   "metadata": {},
   "outputs": [],
   "source": [
    "x = \"Welcome to my Article\""
   ]
  },
  {
   "cell_type": "code",
   "execution_count": 4,
   "id": "3ce95cb1",
   "metadata": {},
   "outputs": [
    {
     "data": {
      "text/plain": [
       "21"
      ]
     },
     "execution_count": 4,
     "metadata": {},
     "output_type": "execute_result"
    }
   ],
   "source": [
    "len(x)"
   ]
  },
  {
   "cell_type": "code",
   "execution_count": 5,
   "id": "4522ea9a",
   "metadata": {},
   "outputs": [
    {
     "name": "stdout",
     "output_type": "stream",
     "text": [
      "Python is fun\n"
     ]
    }
   ],
   "source": [
    "print(\"Python is fun\")"
   ]
  },
  {
   "cell_type": "code",
   "execution_count": 6,
   "id": "6838fee8",
   "metadata": {},
   "outputs": [
    {
     "data": {
      "text/plain": [
       "'welcome to my article'"
      ]
     },
     "execution_count": 6,
     "metadata": {},
     "output_type": "execute_result"
    }
   ],
   "source": [
    "x.lower()"
   ]
  },
  {
   "cell_type": "code",
   "execution_count": 7,
   "id": "aa70729e",
   "metadata": {},
   "outputs": [
    {
     "data": {
      "text/plain": [
       "'WELCOME TO MY ARTICLE'"
      ]
     },
     "execution_count": 7,
     "metadata": {},
     "output_type": "execute_result"
    }
   ],
   "source": [
    "x.upper()"
   ]
  },
  {
   "cell_type": "code",
   "execution_count": 8,
   "id": "1173c0bd",
   "metadata": {},
   "outputs": [
    {
     "data": {
      "text/plain": [
       "['Welcome', 'to', 'my', 'Article']"
      ]
     },
     "execution_count": 8,
     "metadata": {},
     "output_type": "execute_result"
    }
   ],
   "source": [
    "x.split()"
   ]
  },
  {
   "cell_type": "code",
   "execution_count": 13,
   "id": "624398b6",
   "metadata": {},
   "outputs": [],
   "source": [
    "y = \" here we go\""
   ]
  },
  {
   "cell_type": "code",
   "execution_count": 15,
   "id": "07af3d38",
   "metadata": {},
   "outputs": [
    {
     "data": {
      "text/plain": [
       "'here we go'"
      ]
     },
     "execution_count": 15,
     "metadata": {},
     "output_type": "execute_result"
    }
   ],
   "source": [
    "y.strip()"
   ]
  },
  {
   "cell_type": "code",
   "execution_count": 14,
   "id": "34882493",
   "metadata": {},
   "outputs": [
    {
     "data": {
      "text/plain": [
       "' here we go'"
      ]
     },
     "execution_count": 14,
     "metadata": {},
     "output_type": "execute_result"
    }
   ],
   "source": [
    "y"
   ]
  },
  {
   "cell_type": "code",
   "execution_count": 16,
   "id": "ac569205",
   "metadata": {},
   "outputs": [
    {
     "data": {
      "text/plain": [
       "4.5"
      ]
     },
     "execution_count": 16,
     "metadata": {},
     "output_type": "execute_result"
    }
   ],
   "source": [
    "abs(-9/2)"
   ]
  },
  {
   "cell_type": "code",
   "execution_count": 17,
   "id": "803cfbae",
   "metadata": {},
   "outputs": [
    {
     "data": {
      "text/plain": [
       "'cat'"
      ]
     },
     "execution_count": 17,
     "metadata": {},
     "output_type": "execute_result"
    }
   ],
   "source": [
    "max('cat','ball','apple')"
   ]
  },
  {
   "cell_type": "code",
   "execution_count": 19,
   "id": "73cdc7a9",
   "metadata": {},
   "outputs": [
    {
     "data": {
      "text/plain": [
       "'mango'"
      ]
     },
     "execution_count": 19,
     "metadata": {},
     "output_type": "execute_result"
    }
   ],
   "source": [
    "max('cat','ball','apple', 'mango')"
   ]
  },
  {
   "cell_type": "code",
   "execution_count": 21,
   "id": "84ca29cd",
   "metadata": {},
   "outputs": [
    {
     "data": {
      "text/plain": [
       "101"
      ]
     },
     "execution_count": 21,
     "metadata": {},
     "output_type": "execute_result"
    }
   ],
   "source": [
    "max(9,101,2)"
   ]
  },
  {
   "cell_type": "code",
   "execution_count": 22,
   "id": "9907d3f1",
   "metadata": {},
   "outputs": [
    {
     "data": {
      "text/plain": [
       "101"
      ]
     },
     "execution_count": 22,
     "metadata": {},
     "output_type": "execute_result"
    }
   ],
   "source": [
    "max('cat','ball','apple', 'mango')\n",
    "max(9,101,2)"
   ]
  },
  {
   "cell_type": "code",
   "execution_count": 23,
   "id": "b09ed085",
   "metadata": {},
   "outputs": [
    {
     "data": {
      "text/plain": [
       "'apple'"
      ]
     },
     "execution_count": 23,
     "metadata": {},
     "output_type": "execute_result"
    }
   ],
   "source": [
    "min('cat', 'ball', 'apple', 'mango') "
   ]
  },
  {
   "cell_type": "code",
   "execution_count": 24,
   "id": "c8a7b554",
   "metadata": {},
   "outputs": [
    {
     "data": {
      "text/plain": [
       "2"
      ]
     },
     "execution_count": 24,
     "metadata": {},
     "output_type": "execute_result"
    }
   ],
   "source": [
    "min(9,101,2) \n"
   ]
  },
  {
   "cell_type": "code",
   "execution_count": 25,
   "id": "fcb7c59e",
   "metadata": {},
   "outputs": [
    {
     "data": {
      "text/plain": [
       "20"
      ]
     },
     "execution_count": 25,
     "metadata": {},
     "output_type": "execute_result"
    }
   ],
   "source": [
    "x = [9, 8, 3]\n",
    "sum(x)"
   ]
  },
  {
   "cell_type": "code",
   "execution_count": 32,
   "id": "f1374224",
   "metadata": {},
   "outputs": [
    {
     "data": {
      "text/plain": [
       "int"
      ]
     },
     "execution_count": 32,
     "metadata": {},
     "output_type": "execute_result"
    }
   ],
   "source": [
    "x = 3 \n",
    "\n",
    "type(x) "
   ]
  },
  {
   "cell_type": "code",
   "execution_count": 34,
   "id": "169a7665",
   "metadata": {},
   "outputs": [
    {
     "ename": "SyntaxError",
     "evalue": "invalid character in identifier (<ipython-input-34-ff411298d28b>, line 1)",
     "output_type": "error",
     "traceback": [
      "\u001b[1;36m  File \u001b[1;32m\"<ipython-input-34-ff411298d28b>\"\u001b[1;36m, line \u001b[1;32m1\u001b[0m\n\u001b[1;33m    x = “ hey”\u001b[0m\n\u001b[1;37m        ^\u001b[0m\n\u001b[1;31mSyntaxError\u001b[0m\u001b[1;31m:\u001b[0m invalid character in identifier\n"
     ]
    }
   ],
   "source": [
    "x = “ hey” \n",
    "\n",
    "type(x)  "
   ]
  },
  {
   "cell_type": "code",
   "execution_count": 35,
   "id": "6a3e3c0b",
   "metadata": {},
   "outputs": [],
   "source": [
    "x = \"hey\""
   ]
  },
  {
   "cell_type": "code",
   "execution_count": 36,
   "id": "39b5f36f",
   "metadata": {},
   "outputs": [
    {
     "data": {
      "text/plain": [
       "str"
      ]
     },
     "execution_count": 36,
     "metadata": {},
     "output_type": "execute_result"
    }
   ],
   "source": [
    "type(x)"
   ]
  },
  {
   "cell_type": "code",
   "execution_count": 37,
   "id": "b58b3998",
   "metadata": {},
   "outputs": [],
   "source": [
    "x = \"Welcome to C# Corner\""
   ]
  },
  {
   "cell_type": "code",
   "execution_count": 38,
   "id": "baabafb4",
   "metadata": {},
   "outputs": [
    {
     "data": {
      "text/plain": [
       "str"
      ]
     },
     "execution_count": 38,
     "metadata": {},
     "output_type": "execute_result"
    }
   ],
   "source": [
    "type(x)"
   ]
  },
  {
   "cell_type": "code",
   "execution_count": 40,
   "id": "d2fc41a0",
   "metadata": {},
   "outputs": [
    {
     "data": {
      "text/plain": [
       "-1"
      ]
     },
     "execution_count": 40,
     "metadata": {},
     "output_type": "execute_result"
    }
   ],
   "source": [
    "round(-5/4)"
   ]
  },
  {
   "cell_type": "code",
   "execution_count": 41,
   "id": "019554ed",
   "metadata": {},
   "outputs": [
    {
     "data": {
      "text/plain": [
       "-1.25"
      ]
     },
     "execution_count": 41,
     "metadata": {},
     "output_type": "execute_result"
    }
   ],
   "source": [
    "-5/4"
   ]
  },
  {
   "cell_type": "code",
   "execution_count": 42,
   "id": "ef85a1e3",
   "metadata": {},
   "outputs": [
    {
     "data": {
      "text/plain": [
       "3"
      ]
     },
     "execution_count": 42,
     "metadata": {},
     "output_type": "execute_result"
    }
   ],
   "source": [
    "int(3.9) "
   ]
  },
  {
   "cell_type": "code",
   "execution_count": 44,
   "id": "f4b47424",
   "metadata": {},
   "outputs": [
    {
     "data": {
      "text/plain": [
       "4"
      ]
     },
     "execution_count": 44,
     "metadata": {},
     "output_type": "execute_result"
    }
   ],
   "source": [
    "round(3.9)"
   ]
  },
  {
   "cell_type": "code",
   "execution_count": 45,
   "id": "e8522e1f",
   "metadata": {},
   "outputs": [
    {
     "data": {
      "text/plain": [
       "(3+0j)"
      ]
     },
     "execution_count": 45,
     "metadata": {},
     "output_type": "execute_result"
    }
   ],
   "source": [
    "complex(3)"
   ]
  },
  {
   "cell_type": "code",
   "execution_count": 1,
   "id": "1fa885de",
   "metadata": {},
   "outputs": [
    {
     "ename": "SyntaxError",
     "evalue": "invalid character in identifier (<ipython-input-1-da61b4da7f37>, line 1)",
     "output_type": "error",
     "traceback": [
      "\u001b[1;36m  File \u001b[1;32m\"<ipython-input-1-da61b4da7f37>\"\u001b[1;36m, line \u001b[1;32m1\u001b[0m\n\u001b[1;33m    fruit = [‘apple’, ’mango’, ’litchi’, ’strawberry’]\u001b[0m\n\u001b[1;37m                   ^\u001b[0m\n\u001b[1;31mSyntaxError\u001b[0m\u001b[1;31m:\u001b[0m invalid character in identifier\n"
     ]
    }
   ],
   "source": [
    "fruit = [‘apple’, ’mango’, ’litchi’, ’strawberry’] "
   ]
  },
  {
   "cell_type": "code",
   "execution_count": 2,
   "id": "3fc45cdc",
   "metadata": {},
   "outputs": [],
   "source": [
    "fruit = ['apple', 'mango', 'litchi', 'strawberry']"
   ]
  },
  {
   "cell_type": "code",
   "execution_count": 3,
   "id": "00d3295b",
   "metadata": {},
   "outputs": [
    {
     "data": {
      "text/plain": [
       "['apple', 'mango', 'litchi', 'strawberry']"
      ]
     },
     "execution_count": 3,
     "metadata": {},
     "output_type": "execute_result"
    }
   ],
   "source": [
    "fruit\n"
   ]
  },
  {
   "cell_type": "code",
   "execution_count": 4,
   "id": "b7b87811",
   "metadata": {},
   "outputs": [],
   "source": [
    "num_list = [9,8,7,6,5]"
   ]
  },
  {
   "cell_type": "code",
   "execution_count": 5,
   "id": "7df9cbf9",
   "metadata": {},
   "outputs": [
    {
     "data": {
      "text/plain": [
       "[9, 8, 7, 6, 5]"
      ]
     },
     "execution_count": 5,
     "metadata": {},
     "output_type": "execute_result"
    }
   ],
   "source": [
    "num_list"
   ]
  },
  {
   "cell_type": "code",
   "execution_count": 6,
   "id": "6f67885f",
   "metadata": {},
   "outputs": [],
   "source": [
    "mixed_list = [3,8,\"C# Corner\", 'x', 2]"
   ]
  },
  {
   "cell_type": "code",
   "execution_count": 7,
   "id": "2d76a56c",
   "metadata": {},
   "outputs": [
    {
     "data": {
      "text/plain": [
       "[3, 8, 'C# Corner', 'x', 2]"
      ]
     },
     "execution_count": 7,
     "metadata": {},
     "output_type": "execute_result"
    }
   ],
   "source": [
    "mixed_list"
   ]
  },
  {
   "cell_type": "code",
   "execution_count": 8,
   "id": "d20e6866",
   "metadata": {},
   "outputs": [
    {
     "data": {
      "text/plain": [
       "2"
      ]
     },
     "execution_count": 8,
     "metadata": {},
     "output_type": "execute_result"
    }
   ],
   "source": [
    "mixed_list[4]"
   ]
  },
  {
   "cell_type": "code",
   "execution_count": 12,
   "id": "0a1af184",
   "metadata": {},
   "outputs": [],
   "source": [
    "fruit.append('papaya') \n"
   ]
  },
  {
   "cell_type": "code",
   "execution_count": 13,
   "id": "40c8dc6c",
   "metadata": {},
   "outputs": [
    {
     "data": {
      "text/plain": [
       "['apple', 'mango', 'litchi', 'strawberry', 'papaya']"
      ]
     },
     "execution_count": 13,
     "metadata": {},
     "output_type": "execute_result"
    }
   ],
   "source": [
    "fruit"
   ]
  },
  {
   "cell_type": "code",
   "execution_count": 14,
   "id": "6855a9f1",
   "metadata": {},
   "outputs": [],
   "source": [
    "fruit.remove('litchi')"
   ]
  },
  {
   "cell_type": "code",
   "execution_count": 15,
   "id": "bc38f2c4",
   "metadata": {},
   "outputs": [
    {
     "data": {
      "text/plain": [
       "['apple', 'mango', 'strawberry', 'papaya']"
      ]
     },
     "execution_count": 15,
     "metadata": {},
     "output_type": "execute_result"
    }
   ],
   "source": [
    "fruit\n"
   ]
  },
  {
   "cell_type": "code",
   "execution_count": 16,
   "id": "38ff6076",
   "metadata": {},
   "outputs": [
    {
     "data": {
      "text/plain": [
       "1"
      ]
     },
     "execution_count": 16,
     "metadata": {},
     "output_type": "execute_result"
    }
   ],
   "source": [
    "fruit.count('mango')"
   ]
  },
  {
   "cell_type": "code",
   "execution_count": 17,
   "id": "4e971347",
   "metadata": {},
   "outputs": [
    {
     "data": {
      "text/plain": [
       "['apple', 'mango', 'strawberry', 'papaya']"
      ]
     },
     "execution_count": 17,
     "metadata": {},
     "output_type": "execute_result"
    }
   ],
   "source": [
    "fruit"
   ]
  },
  {
   "cell_type": "code",
   "execution_count": 18,
   "id": "1859b275",
   "metadata": {},
   "outputs": [],
   "source": [
    "fruit.clear()"
   ]
  },
  {
   "cell_type": "code",
   "execution_count": 19,
   "id": "61c37f71",
   "metadata": {},
   "outputs": [
    {
     "data": {
      "text/plain": [
       "[]"
      ]
     },
     "execution_count": 19,
     "metadata": {},
     "output_type": "execute_result"
    }
   ],
   "source": [
    "fruit"
   ]
  },
  {
   "cell_type": "code",
   "execution_count": 20,
   "id": "ffe44e27",
   "metadata": {},
   "outputs": [],
   "source": [
    " \n",
    "\n",
    "fruit_dict = { \n",
    "    'name':'Apple',\n",
    "    'scientific_name': 'Malus domestica',\n",
    "    'origin':'Central Asia',\n",
    "    'variation':7500,\n",
    "    'flavor_profile':['Sweet','Sour','Bitter']\n",
    "\n",
    " \n",
    "\n",
    "} "
   ]
  },
  {
   "cell_type": "code",
   "execution_count": 21,
   "id": "d25dc6a5",
   "metadata": {},
   "outputs": [
    {
     "data": {
      "text/plain": [
       "{'name': 'Apple',\n",
       " 'scientific_name': 'Malus domestica',\n",
       " 'origin': 'Central Asia',\n",
       " 'variation': 7500,\n",
       " 'flavor_profile': ['Sweet', 'Sour', 'Bitter']}"
      ]
     },
     "execution_count": 21,
     "metadata": {},
     "output_type": "execute_result"
    }
   ],
   "source": [
    "fruit_dict"
   ]
  },
  {
   "cell_type": "code",
   "execution_count": 22,
   "id": "ee18cc64",
   "metadata": {},
   "outputs": [
    {
     "data": {
      "text/plain": [
       "dict_keys(['name', 'scientific_name', 'origin', 'variation', 'flavor_profile'])"
      ]
     },
     "execution_count": 22,
     "metadata": {},
     "output_type": "execute_result"
    }
   ],
   "source": [
    "fruit_dict.keys()"
   ]
  },
  {
   "cell_type": "code",
   "execution_count": 23,
   "id": "c8a417b2",
   "metadata": {},
   "outputs": [
    {
     "data": {
      "text/plain": [
       "dict_values(['Apple', 'Malus domestica', 'Central Asia', 7500, ['Sweet', 'Sour', 'Bitter']])"
      ]
     },
     "execution_count": 23,
     "metadata": {},
     "output_type": "execute_result"
    }
   ],
   "source": [
    "fruit_dict.values()"
   ]
  },
  {
   "cell_type": "code",
   "execution_count": 24,
   "id": "9128ab31",
   "metadata": {},
   "outputs": [],
   "source": [
    "fruit_dict.clear()"
   ]
  },
  {
   "cell_type": "code",
   "execution_count": 25,
   "id": "51965ad3",
   "metadata": {},
   "outputs": [
    {
     "data": {
      "text/plain": [
       "{}"
      ]
     },
     "execution_count": 25,
     "metadata": {},
     "output_type": "execute_result"
    }
   ],
   "source": [
    "fruit_dict"
   ]
  },
  {
   "cell_type": "code",
   "execution_count": 27,
   "id": "f9295ccb",
   "metadata": {},
   "outputs": [],
   "source": [
    "fruit_tuple = ('apple', 'mango', 'litchi', 'strawberry')"
   ]
  },
  {
   "cell_type": "code",
   "execution_count": 28,
   "id": "10581bcc",
   "metadata": {},
   "outputs": [
    {
     "data": {
      "text/plain": [
       "('apple', 'mango', 'litchi', 'strawberry')"
      ]
     },
     "execution_count": 28,
     "metadata": {},
     "output_type": "execute_result"
    }
   ],
   "source": [
    "fruit_tuple"
   ]
  },
  {
   "cell_type": "code",
   "execution_count": 29,
   "id": "5fd92a8b",
   "metadata": {},
   "outputs": [
    {
     "ename": "AttributeError",
     "evalue": "'tuple' object has no attribute 'clear'",
     "output_type": "error",
     "traceback": [
      "\u001b[1;31m---------------------------------------------------------------------------\u001b[0m",
      "\u001b[1;31mAttributeError\u001b[0m                            Traceback (most recent call last)",
      "\u001b[1;32m<ipython-input-29-a802b36f1bca>\u001b[0m in \u001b[0;36m<module>\u001b[1;34m\u001b[0m\n\u001b[1;32m----> 1\u001b[1;33m \u001b[0mfruit_tuple\u001b[0m\u001b[1;33m.\u001b[0m\u001b[0mclear\u001b[0m\u001b[1;33m(\u001b[0m\u001b[1;33m)\u001b[0m\u001b[1;33m\u001b[0m\u001b[1;33m\u001b[0m\u001b[0m\n\u001b[0m",
      "\u001b[1;31mAttributeError\u001b[0m: 'tuple' object has no attribute 'clear'"
     ]
    }
   ],
   "source": [
    "fruit_tuple.clear()"
   ]
  },
  {
   "cell_type": "code",
   "execution_count": 31,
   "id": "cae43cbd",
   "metadata": {},
   "outputs": [
    {
     "data": {
      "text/plain": [
       "'litchi'"
      ]
     },
     "execution_count": 31,
     "metadata": {},
     "output_type": "execute_result"
    }
   ],
   "source": [
    "fruit_tuple[2]"
   ]
  },
  {
   "cell_type": "code",
   "execution_count": 32,
   "id": "cfb0e6d2",
   "metadata": {},
   "outputs": [],
   "source": [
    "del(fruit_tuple)"
   ]
  },
  {
   "cell_type": "code",
   "execution_count": 33,
   "id": "5553a1d3",
   "metadata": {},
   "outputs": [
    {
     "ename": "NameError",
     "evalue": "name 'fruit_tuple' is not defined",
     "output_type": "error",
     "traceback": [
      "\u001b[1;31m---------------------------------------------------------------------------\u001b[0m",
      "\u001b[1;31mNameError\u001b[0m                                 Traceback (most recent call last)",
      "\u001b[1;32m<ipython-input-33-6381a5bf3a62>\u001b[0m in \u001b[0;36m<module>\u001b[1;34m\u001b[0m\n\u001b[1;32m----> 1\u001b[1;33m \u001b[0mfruit_tuple\u001b[0m\u001b[1;33m\u001b[0m\u001b[1;33m\u001b[0m\u001b[0m\n\u001b[0m",
      "\u001b[1;31mNameError\u001b[0m: name 'fruit_tuple' is not defined"
     ]
    }
   ],
   "source": [
    "fruit_tuple"
   ]
  },
  {
   "cell_type": "code",
   "execution_count": 34,
   "id": "52c15d03",
   "metadata": {},
   "outputs": [],
   "source": [
    "fruit_tuple = ('apple', 'mango', 'litchi', 'strawberry')"
   ]
  },
  {
   "cell_type": "code",
   "execution_count": 35,
   "id": "0bde53ed",
   "metadata": {},
   "outputs": [
    {
     "data": {
      "text/plain": [
       "('apple', 'mango', 'litchi', 'strawberry')"
      ]
     },
     "execution_count": 35,
     "metadata": {},
     "output_type": "execute_result"
    }
   ],
   "source": [
    "fruit_tuple"
   ]
  },
  {
   "cell_type": "code",
   "execution_count": 37,
   "id": "e15b503b",
   "metadata": {},
   "outputs": [
    {
     "data": {
      "text/plain": [
       "'apple'"
      ]
     },
     "execution_count": 37,
     "metadata": {},
     "output_type": "execute_result"
    }
   ],
   "source": [
    "fruit_tuple[0]"
   ]
  },
  {
   "cell_type": "code",
   "execution_count": 38,
   "id": "5d8ea512",
   "metadata": {},
   "outputs": [
    {
     "data": {
      "text/plain": [
       "'litchi'"
      ]
     },
     "execution_count": 38,
     "metadata": {},
     "output_type": "execute_result"
    }
   ],
   "source": [
    "fruit_tuple[2]"
   ]
  },
  {
   "cell_type": "code",
   "execution_count": 39,
   "id": "70f42902",
   "metadata": {},
   "outputs": [],
   "source": [
    "fruit_set = {'apple', 'mango', 'litchi', 'strawberry', 'avocado', 'grape'}"
   ]
  },
  {
   "cell_type": "code",
   "execution_count": 40,
   "id": "22994bb8",
   "metadata": {},
   "outputs": [
    {
     "data": {
      "text/plain": [
       "{'apple', 'avocado', 'grape', 'litchi', 'mango', 'strawberry'}"
      ]
     },
     "execution_count": 40,
     "metadata": {},
     "output_type": "execute_result"
    }
   ],
   "source": [
    "fruit_set"
   ]
  },
  {
   "cell_type": "code",
   "execution_count": 41,
   "id": "35ad062c",
   "metadata": {},
   "outputs": [],
   "source": [
    "fruit_set = {'apple', 'mango', 'litchi', 'strawberry', 'avocado', 'grape', 'grape'}"
   ]
  },
  {
   "cell_type": "code",
   "execution_count": 42,
   "id": "fd802936",
   "metadata": {},
   "outputs": [
    {
     "data": {
      "text/plain": [
       "{'apple', 'avocado', 'grape', 'litchi', 'mango', 'strawberry'}"
      ]
     },
     "execution_count": 42,
     "metadata": {},
     "output_type": "execute_result"
    }
   ],
   "source": [
    "fruit_set"
   ]
  },
  {
   "cell_type": "code",
   "execution_count": 43,
   "id": "1b2e3261",
   "metadata": {},
   "outputs": [
    {
     "ename": "AttributeError",
     "evalue": "'set' object has no attribute 'count'",
     "output_type": "error",
     "traceback": [
      "\u001b[1;31m---------------------------------------------------------------------------\u001b[0m",
      "\u001b[1;31mAttributeError\u001b[0m                            Traceback (most recent call last)",
      "\u001b[1;32m<ipython-input-43-dfe794e55b10>\u001b[0m in \u001b[0;36m<module>\u001b[1;34m\u001b[0m\n\u001b[1;32m----> 1\u001b[1;33m \u001b[0mfruit_set\u001b[0m\u001b[1;33m.\u001b[0m\u001b[0mcount\u001b[0m\u001b[1;33m(\u001b[0m\u001b[1;34m'grape'\u001b[0m\u001b[1;33m)\u001b[0m\u001b[1;33m\u001b[0m\u001b[1;33m\u001b[0m\u001b[0m\n\u001b[0m",
      "\u001b[1;31mAttributeError\u001b[0m: 'set' object has no attribute 'count'"
     ]
    }
   ],
   "source": [
    "fruit_set.count('grape')"
   ]
  },
  {
   "cell_type": "code",
   "execution_count": 44,
   "id": "7869eac4",
   "metadata": {},
   "outputs": [],
   "source": [
    "X = {2,4,6,8,10,12}"
   ]
  },
  {
   "cell_type": "code",
   "execution_count": 45,
   "id": "ad35d897",
   "metadata": {},
   "outputs": [],
   "source": [
    "Y = {1,2,3,4,5,6,7,8,9,10}"
   ]
  },
  {
   "cell_type": "code",
   "execution_count": 46,
   "id": "a34dff01",
   "metadata": {},
   "outputs": [],
   "source": [
    "Z = {1,3,5,7,9,11,13}"
   ]
  },
  {
   "cell_type": "code",
   "execution_count": null,
   "id": "9193f3bd",
   "metadata": {},
   "outputs": [],
   "source": []
  }
 ],
 "metadata": {
  "kernelspec": {
   "display_name": "Python 3",
   "language": "python",
   "name": "python3"
  },
  "language_info": {
   "codemirror_mode": {
    "name": "ipython",
    "version": 3
   },
   "file_extension": ".py",
   "mimetype": "text/x-python",
   "name": "python",
   "nbconvert_exporter": "python",
   "pygments_lexer": "ipython3",
   "version": "3.6.13"
  }
 },
 "nbformat": 4,
 "nbformat_minor": 5
}
